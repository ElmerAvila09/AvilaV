{
  "nbformat": 4,
  "nbformat_minor": 0,
  "metadata": {
    "colab": {
      "name": "01.ipynb",
      "provenance": [],
      "authorship_tag": "ABX9TyNcvfo30sDg1+B1/vnxz0M9",
      "include_colab_link": true
    },
    "kernelspec": {
      "name": "python3",
      "display_name": "Python 3"
    },
    "language_info": {
      "name": "python"
    }
  },
  "cells": [
    {
      "cell_type": "markdown",
      "metadata": {
        "id": "view-in-github",
        "colab_type": "text"
      },
      "source": [
        "<a href=\"https://colab.research.google.com/github/ElmerAvila09/AvilaV/blob/Testing-Branch/01.ipynb\" target=\"_parent\"><img src=\"https://colab.research.google.com/assets/colab-badge.svg\" alt=\"Open In Colab\"/></a>"
      ]
    },
    {
      "cell_type": "code",
      "execution_count": null,
      "metadata": {
        "colab": {
          "base_uri": "https://localhost:8080/"
        },
        "id": "uze4voBCKRkF",
        "outputId": "cca7f207-eb37-445b-acae-5c3cb5230bb6"
      },
      "outputs": [
        {
          "output_type": "stream",
          "name": "stdout",
          "text": [
            "message\n"
          ]
        }
      ],
      "source": [
        "print(\"message\")"
      ]
    },
    {
      "cell_type": "code",
      "source": [
        "print(\"Modificando desde la rama\")"
      ],
      "metadata": {
        "id": "6Jd0--EyNbYU"
      },
      "execution_count": null,
      "outputs": []
    }
  ]
}